{
 "cells": [
  {
   "cell_type": "code",
   "execution_count": 1,
   "metadata": {},
   "outputs": [],
   "source": [
    "#EDA Libraries\n",
    "import pandas as pd\n",
    "from pandas import DataFrame\n",
    "from pandas import concat\n",
    "import numpy as np"
   ]
  },
  {
   "cell_type": "code",
   "execution_count": 2,
   "metadata": {},
   "outputs": [],
   "source": [
    "from statsmodels.tsa.api import VAR\n"
   ]
  },
  {
   "cell_type": "code",
   "execution_count": 3,
   "metadata": {},
   "outputs": [
    {
     "data": {
      "text/html": [
       "<div>\n",
       "<style scoped>\n",
       "    .dataframe tbody tr th:only-of-type {\n",
       "        vertical-align: middle;\n",
       "    }\n",
       "\n",
       "    .dataframe tbody tr th {\n",
       "        vertical-align: top;\n",
       "    }\n",
       "\n",
       "    .dataframe thead th {\n",
       "        text-align: right;\n",
       "    }\n",
       "</style>\n",
       "<table border=\"1\" class=\"dataframe\">\n",
       "  <thead>\n",
       "    <tr style=\"text-align: right;\">\n",
       "      <th></th>\n",
       "      <th>S&amp;P 500</th>\n",
       "      <th>Earnings</th>\n",
       "      <th>10Y Usa Rate</th>\n",
       "    </tr>\n",
       "    <tr>\n",
       "      <th>Date</th>\n",
       "      <th></th>\n",
       "      <th></th>\n",
       "      <th></th>\n",
       "    </tr>\n",
       "  </thead>\n",
       "  <tbody>\n",
       "    <tr>\n",
       "      <th>1900-01-31</th>\n",
       "      <td>6.100000</td>\n",
       "      <td>0.480000</td>\n",
       "      <td>3.150000</td>\n",
       "    </tr>\n",
       "    <tr>\n",
       "      <th>1900-02-28</th>\n",
       "      <td>6.210000</td>\n",
       "      <td>0.480000</td>\n",
       "      <td>3.145833</td>\n",
       "    </tr>\n",
       "    <tr>\n",
       "      <th>1900-03-31</th>\n",
       "      <td>6.260000</td>\n",
       "      <td>0.480000</td>\n",
       "      <td>3.141667</td>\n",
       "    </tr>\n",
       "    <tr>\n",
       "      <th>1900-04-30</th>\n",
       "      <td>6.340000</td>\n",
       "      <td>0.480000</td>\n",
       "      <td>3.137500</td>\n",
       "    </tr>\n",
       "    <tr>\n",
       "      <th>1900-05-31</th>\n",
       "      <td>6.040000</td>\n",
       "      <td>0.480000</td>\n",
       "      <td>3.133333</td>\n",
       "    </tr>\n",
       "    <tr>\n",
       "      <th>...</th>\n",
       "      <td>...</td>\n",
       "      <td>...</td>\n",
       "      <td>...</td>\n",
       "    </tr>\n",
       "    <tr>\n",
       "      <th>2023-08-31</th>\n",
       "      <td>4457.358696</td>\n",
       "      <td>183.170000</td>\n",
       "      <td>4.170000</td>\n",
       "    </tr>\n",
       "    <tr>\n",
       "      <th>2023-09-30</th>\n",
       "      <td>4409.095000</td>\n",
       "      <td>184.250000</td>\n",
       "      <td>4.380000</td>\n",
       "    </tr>\n",
       "    <tr>\n",
       "      <th>2023-10-31</th>\n",
       "      <td>4269.400909</td>\n",
       "      <td>186.976667</td>\n",
       "      <td>4.800000</td>\n",
       "    </tr>\n",
       "    <tr>\n",
       "      <th>2023-11-30</th>\n",
       "      <td>4460.063333</td>\n",
       "      <td>189.703333</td>\n",
       "      <td>4.500000</td>\n",
       "    </tr>\n",
       "    <tr>\n",
       "      <th>2023-12-31</th>\n",
       "      <td>4685.051500</td>\n",
       "      <td>192.430000</td>\n",
       "      <td>4.020000</td>\n",
       "    </tr>\n",
       "  </tbody>\n",
       "</table>\n",
       "<p>1488 rows × 3 columns</p>\n",
       "</div>"
      ],
      "text/plain": [
       "                S&P 500    Earnings  10Y Usa Rate\n",
       "Date                                             \n",
       "1900-01-31     6.100000    0.480000      3.150000\n",
       "1900-02-28     6.210000    0.480000      3.145833\n",
       "1900-03-31     6.260000    0.480000      3.141667\n",
       "1900-04-30     6.340000    0.480000      3.137500\n",
       "1900-05-31     6.040000    0.480000      3.133333\n",
       "...                 ...         ...           ...\n",
       "2023-08-31  4457.358696  183.170000      4.170000\n",
       "2023-09-30  4409.095000  184.250000      4.380000\n",
       "2023-10-31  4269.400909  186.976667      4.800000\n",
       "2023-11-30  4460.063333  189.703333      4.500000\n",
       "2023-12-31  4685.051500  192.430000      4.020000\n",
       "\n",
       "[1488 rows x 3 columns]"
      ]
     },
     "execution_count": 3,
     "metadata": {},
     "output_type": "execute_result"
    }
   ],
   "source": [
    "#Lettura del File\n",
    "df=pd.read_excel('SHILLER_Data.xlsx')\n",
    "\n",
    "#Impostazione della data come indice\n",
    "df.set_index('Date', inplace=True)\n",
    "df.head()\n",
    "\n",
    "#Eliminazione delle colonne Dividends e CPI\n",
    "df=df.drop(['Dividends' ,'CPI'],axis=1)\n",
    "df.dropna()"
   ]
  },
  {
   "cell_type": "code",
   "execution_count": 4,
   "metadata": {},
   "outputs": [
    {
     "data": {
      "text/html": [
       "<div>\n",
       "<style scoped>\n",
       "    .dataframe tbody tr th:only-of-type {\n",
       "        vertical-align: middle;\n",
       "    }\n",
       "\n",
       "    .dataframe tbody tr th {\n",
       "        vertical-align: top;\n",
       "    }\n",
       "\n",
       "    .dataframe thead th {\n",
       "        text-align: right;\n",
       "    }\n",
       "</style>\n",
       "<table border=\"1\" class=\"dataframe\">\n",
       "  <thead>\n",
       "    <tr style=\"text-align: right;\">\n",
       "      <th></th>\n",
       "      <th>S&amp;P 500</th>\n",
       "      <th>Earnings</th>\n",
       "      <th>10Y Usa Rate</th>\n",
       "    </tr>\n",
       "    <tr>\n",
       "      <th>Date</th>\n",
       "      <th></th>\n",
       "      <th></th>\n",
       "      <th></th>\n",
       "    </tr>\n",
       "  </thead>\n",
       "  <tbody>\n",
       "    <tr>\n",
       "      <th>1945-01-31</th>\n",
       "      <td>13.49</td>\n",
       "      <td>0.940000</td>\n",
       "      <td>2.370</td>\n",
       "    </tr>\n",
       "    <tr>\n",
       "      <th>1945-02-28</th>\n",
       "      <td>13.94</td>\n",
       "      <td>0.950000</td>\n",
       "      <td>2.355</td>\n",
       "    </tr>\n",
       "    <tr>\n",
       "      <th>1945-03-31</th>\n",
       "      <td>13.93</td>\n",
       "      <td>0.960000</td>\n",
       "      <td>2.340</td>\n",
       "    </tr>\n",
       "    <tr>\n",
       "      <th>1945-04-30</th>\n",
       "      <td>14.28</td>\n",
       "      <td>0.973333</td>\n",
       "      <td>2.325</td>\n",
       "    </tr>\n",
       "    <tr>\n",
       "      <th>1945-05-31</th>\n",
       "      <td>14.82</td>\n",
       "      <td>0.986667</td>\n",
       "      <td>2.310</td>\n",
       "    </tr>\n",
       "  </tbody>\n",
       "</table>\n",
       "</div>"
      ],
      "text/plain": [
       "            S&P 500  Earnings  10Y Usa Rate\n",
       "Date                                       \n",
       "1945-01-31    13.49  0.940000         2.370\n",
       "1945-02-28    13.94  0.950000         2.355\n",
       "1945-03-31    13.93  0.960000         2.340\n",
       "1945-04-30    14.28  0.973333         2.325\n",
       "1945-05-31    14.82  0.986667         2.310"
      ]
     },
     "execution_count": 4,
     "metadata": {},
     "output_type": "execute_result"
    }
   ],
   "source": [
    "# Selezionde dati (dal 1945-01-31 in poi)\n",
    "initial_date = '1945-01-31'\n",
    "df = df[df.index >= initial_date]\n",
    "df.head()"
   ]
  },
  {
   "cell_type": "code",
   "execution_count": 6,
   "metadata": {},
   "outputs": [],
   "source": [
    "# Trasformazione \n",
    "l_df=np.log(df)"
   ]
  },
  {
   "cell_type": "code",
   "execution_count": 13,
   "metadata": {},
   "outputs": [
    {
     "name": "stdout",
     "output_type": "stream",
     "text": [
      "<statsmodels.tsa.vector_ar.var_model.VAR object at 0x0000018284B05CD0>\n"
     ]
    }
   ],
   "source": [
    "# Creation of the VAR model\n",
    "l_df = l_df.asfreq('ME')\n",
    "model = VAR(l_df)\n",
    "print(model)"
   ]
  },
  {
   "cell_type": "code",
   "execution_count": 8,
   "metadata": {},
   "outputs": [
    {
     "data": {
      "text/plain": [
       "<statsmodels.tsa.vector_ar.var_model.LagOrderResults at 0x182831f0110>"
      ]
     },
     "execution_count": 8,
     "metadata": {},
     "output_type": "execute_result"
    }
   ],
   "source": [
    "# Using the 'select_order' function to determine the optimal lag\n",
    "lag_order = model.select_order(maxlags=15)\n",
    "lag_order"
   ]
  },
  {
   "cell_type": "code",
   "execution_count": 10,
   "metadata": {},
   "outputs": [
    {
     "name": "stdout",
     "output_type": "stream",
     "text": [
      " VAR Order Selection (* highlights the minimums)  \n",
      "==================================================\n",
      "       AIC         BIC         FPE         HQIC   \n",
      "--------------------------------------------------\n",
      "0       -2.437      -2.422     0.08738      -2.432\n",
      "1       -18.75      -18.69   7.207e-09      -18.72\n",
      "2       -19.81      -19.70   2.503e-09      -19.76\n",
      "3       -19.86     -19.71*   2.369e-09      -19.80\n",
      "4       -19.88      -19.67   2.330e-09      -19.80\n",
      "5       -19.90      -19.65   2.279e-09     -19.80*\n",
      "6       -19.90      -19.60   2.287e-09      -19.78\n",
      "7       -19.89      -19.55   2.301e-09      -19.76\n",
      "8       -19.94      -19.55   2.196e-09      -19.79\n",
      "9       -19.93      -19.49   2.216e-09      -19.76\n",
      "10      -19.91      -19.43   2.245e-09      -19.73\n",
      "11      -19.96      -19.43   2.155e-09      -19.75\n",
      "12      -19.96      -19.38   2.150e-09      -19.74\n",
      "13      -19.96      -19.34   2.149e-09      -19.72\n",
      "14      -20.04      -19.37   1.990e-09      -19.78\n",
      "15     -20.04*      -19.32  1.985e-09*      -19.76\n",
      "--------------------------------------------------\n"
     ]
    }
   ],
   "source": [
    "print(lag_order.summary())"
   ]
  },
  {
   "cell_type": "code",
   "execution_count": 9,
   "metadata": {},
   "outputs": [
    {
     "name": "stdout",
     "output_type": "stream",
     "text": [
      "15 3 5 15\n"
     ]
    }
   ],
   "source": [
    "# Find the optimal lag for each criterion\n",
    "aic_lag = lag_order.aic\n",
    "bic_lag = lag_order.bic\n",
    "hqic_lag = lag_order.hqic\n",
    "fpe_lag = lag_order.fpe\n",
    "print(aic_lag, bic_lag, hqic_lag, fpe_lag)"
   ]
  },
  {
   "cell_type": "code",
   "execution_count": 15,
   "metadata": {},
   "outputs": [
    {
     "name": "stdout",
     "output_type": "stream",
     "text": [
      "3\n"
     ]
    }
   ],
   "source": [
    "# Trova il minimo tra questi lag\n",
    "min_lag = min(aic_lag, bic_lag, hqic_lag, fpe_lag)\n",
    "print(min_lag)"
   ]
  }
 ],
 "metadata": {
  "kernelspec": {
   "display_name": "base",
   "language": "python",
   "name": "python3"
  },
  "language_info": {
   "codemirror_mode": {
    "name": "ipython",
    "version": 3
   },
   "file_extension": ".py",
   "mimetype": "text/x-python",
   "name": "python",
   "nbconvert_exporter": "python",
   "pygments_lexer": "ipython3",
   "version": "3.11.5"
  }
 },
 "nbformat": 4,
 "nbformat_minor": 2
}
